{
 "cells": [
  {
   "cell_type": "markdown",
   "id": "5fa0ebc6-5fca-42be-a04e-2e27bc25f7db",
   "metadata": {},
   "source": [
    "###  Q1 Question "
   ]
  },
  {
   "cell_type": "markdown",
   "id": "c0181ce1-259c-4bfb-9188-0bbf02ca1466",
   "metadata": {},
   "source": [
    "Task 1\n",
    "- Create a function that would swap the value of x and y using only x and y as variables.\n",
    "- x and y must be numeric.\n",
    "- Return -1 if x and y is not numeric, and\n",
    "- print the swapped values if both x and y are numeric.\n",
    "\n",
    "Task 2\n",
    "- Invoke the function \"swap\" using the following scenarios:\n",
    "    - \"Apple\", 10\n",
    "    - 9, 17"
   ]
  },
  {
   "cell_type": "code",
   "execution_count": 16,
   "id": "1ebee29a-d003-4da5-8d05-299885c19166",
   "metadata": {},
   "outputs": [],
   "source": [
    "# template\n",
    "def swap(x, y):\n",
    "    return"
   ]
  },
  {
   "cell_type": "markdown",
   "id": "9bb9df95-818e-4416-8711-9779e9fb4463",
   "metadata": {},
   "source": [
    "###  Q1 Answer"
   ]
  },
  {
   "cell_type": "code",
   "execution_count": 276,
   "id": "ec43624c-98a8-4972-9ec3-2d13c680157e",
   "metadata": {},
   "outputs": [],
   "source": [
    "# Task 1\n",
    "\n",
    "def swap(x, y):\n",
    "    if not (isinstance(x, (int, float)) and isinstance(y, (int, float))):\n",
    "        return -1\n",
    "    x, y = y, x\n",
    "    print(f\"Swapped values: x = {x}, y = {y}\")\n",
    "    return (x, y)"
   ]
  },
  {
   "cell_type": "code",
   "execution_count": 266,
   "id": "5b00ce43-330d-4280-9cdb-73638d4f3368",
   "metadata": {},
   "outputs": [
    {
     "name": "stdout",
     "output_type": "stream",
     "text": [
      "-1\n"
     ]
    }
   ],
   "source": [
    "# Task 2\n",
    "\n",
    "print(swap(\"Apple\", 10)) #return -1. \"Apple\" is not numeric"
   ]
  },
  {
   "cell_type": "code",
   "execution_count": 278,
   "id": "d1b4ba89-354f-4b36-86d1-197a981455f5",
   "metadata": {},
   "outputs": [
    {
     "name": "stdout",
     "output_type": "stream",
     "text": [
      "Swapped values: x = 17, y = 9\n",
      "(17, 9)\n"
     ]
    }
   ],
   "source": [
    "print(swap(9, 17))       #return swapped values"
   ]
  },
  {
   "cell_type": "markdown",
   "id": "b815943e-184f-442e-a214-60e203d7b5b6",
   "metadata": {},
   "source": [
    "### Q2 Question"
   ]
  },
  {
   "cell_type": "markdown",
   "id": "da580770-a45b-4fe8-bda7-4278965c258f",
   "metadata": {},
   "source": [
    "Task 1\n",
    "- Create a function that searches for all occurrences of a value (find_val) in a given list (lst) and replaces them with another value (replace_val).\n",
    "- lst must be a list.\n",
    "- Return the modified list.\n",
    "\n",
    "Task 2\n",
    "- Invoke the function \"find_and_replace\" using the following scenarios:\n",
    "    - [1, 2, 3, 4, 2, 2], 2, 5\n",
    "    - [\"apple\", \"banana\", \"apple\"], \"apple\", \"orange\""
   ]
  },
  {
   "cell_type": "code",
   "execution_count": 22,
   "id": "4caa69b8-5242-484d-bb68-225e48b0734f",
   "metadata": {},
   "outputs": [],
   "source": [
    "# template\n",
    "def find_and_replace(lst, find_val, replace_val):\n",
    "    return"
   ]
  },
  {
   "cell_type": "markdown",
   "id": "fe0fae6a-e1a9-4527-932e-e3c21b65a4bd",
   "metadata": {},
   "source": [
    "### Q2 Answer"
   ]
  },
  {
   "cell_type": "code",
   "execution_count": 111,
   "id": "f44e46d0-5b4a-4345-a452-02cf500bf69e",
   "metadata": {},
   "outputs": [],
   "source": [
    "# Task 1\n",
    "\n",
    "def find_and_replace(lst, find_val, replace_val):\n",
    "    \n",
    "    # Check if lst is a list\n",
    "    if not isinstance(lst, list):\n",
    "        return \"Error: lst must be a list\"\n",
    "    \n",
    "    # Replace occurrences of find_val with replace_val\n",
    "    for i in range(len(lst)):\n",
    "        if lst[i] == find_val:\n",
    "            lst[i] = replace_val\n",
    "    \n",
    "    return lst"
   ]
  },
  {
   "cell_type": "code",
   "execution_count": 87,
   "id": "e0093b2d-0abc-4396-ae85-7e2ea7d81d36",
   "metadata": {},
   "outputs": [
    {
     "name": "stdout",
     "output_type": "stream",
     "text": [
      "[1, 5, 3, 4, 5, 5]\n",
      "['orange', 'banana', 'orange']\n"
     ]
    }
   ],
   "source": [
    "# Task 2\n",
    "\n",
    "print(find_and_replace([1, 2, 3, 4, 2, 2], 2, 5))  # replace 2 with 5\n",
    "print(find_and_replace([\"apple\", \"banana\", \"apple\"], \"apple\", \"orange\"))  # replace \"apple\" with \"orange\""
   ]
  },
  {
   "cell_type": "markdown",
   "id": "419db78e-9cfa-49a1-8ec9-2a8bb5c1eef1",
   "metadata": {},
   "source": [
    "### Q3 Question"
   ]
  },
  {
   "cell_type": "markdown",
   "id": "d63d8f3c-ae3f-4236-8be5-0d3862d05a98",
   "metadata": {},
   "source": [
    "Task 1\n",
    "- Create a function that updates a dictionary (dct) with a new key-value pair.\n",
    "- If the key already exists in dct, print the original value, then update its value.\n",
    "- Return the updated dictionary.\n",
    "  \n",
    "Task 2\n",
    "- Invoke the function \"update_dictionary\" using the following scenarios:\n",
    "    - {}, \"name\", \"Alice\"\n",
    "    - {\"age\": 25}, \"age\", 26"
   ]
  },
  {
   "cell_type": "code",
   "execution_count": null,
   "id": "ac4ed594-3478-4a2b-b441-fbe2fa42224e",
   "metadata": {},
   "outputs": [],
   "source": [
    "# Template\n",
    "def update_dictionary(dct, key, value):\n",
    "    return"
   ]
  },
  {
   "cell_type": "markdown",
   "id": "a70846b9-7cfc-453c-80d1-555d7014a49c",
   "metadata": {},
   "source": [
    "### Q3 Answer"
   ]
  },
  {
   "cell_type": "code",
   "execution_count": 222,
   "id": "146d871d-d1b9-45c9-96f3-f71f5e793037",
   "metadata": {},
   "outputs": [],
   "source": [
    "# Task 1\n",
    "\n",
    "def update_dictionary(dct, key, value):\n",
    "    \n",
    "    # Check if the key exists in the dictionary\n",
    "    if key in dct:\n",
    "        print(f'Original value of key \"{key}\": {dct[key]}')\n",
    "\n",
    "    # Update or add the key-value pair\n",
    "    dct[key] = value  \n",
    "    \n",
    "    return dct"
   ]
  },
  {
   "cell_type": "code",
   "execution_count": 224,
   "id": "f23887c9-0795-46ba-a734-7caa2d53b8f0",
   "metadata": {},
   "outputs": [
    {
     "name": "stdout",
     "output_type": "stream",
     "text": [
      "{'name': 'Alice'}\n"
     ]
    }
   ],
   "source": [
    "# Task 2\n",
    "\n",
    "print(update_dictionary({}, \"name\", \"Alice\"))  # Expected output: {\"name\": \"Alice\"}"
   ]
  },
  {
   "cell_type": "code",
   "execution_count": 228,
   "id": "df0cafd2-45e2-417a-8b10-c02c5da83214",
   "metadata": {},
   "outputs": [
    {
     "name": "stdout",
     "output_type": "stream",
     "text": [
      "Original value of key \"age\": 25\n",
      "{'age': 26}\n"
     ]
    }
   ],
   "source": [
    "# Task 2\n",
    "\n",
    "print(update_dictionary({\"age\": 25}, \"age\", 26)) \n",
    "\n",
    "# Expected output: \n",
    "# Original value of key \"age\": 25\n",
    "# {\"age\": 26}"
   ]
  },
  {
   "cell_type": "markdown",
   "id": "e41cfc10-b1e8-425f-890b-62ed8fe77007",
   "metadata": {},
   "source": [
    "### Q4 Question"
   ]
  },
  {
   "cell_type": "markdown",
   "id": "d05604f7-3bbc-4738-8307-7b8d00f9301f",
   "metadata": {},
   "source": [
    "Task 1\n",
    "- Create a function that reverses a given string (s).\n",
    "- s must be a string.\n",
    "- Return the reversed string.\n",
    "\n",
    "Task 2\n",
    "- Invoke the function \"string_reverse\" using the following scenarios:\n",
    "    - \"Hello World\"\n",
    "    - \"Python\""
   ]
  },
  {
   "cell_type": "code",
   "execution_count": 99,
   "id": "c2db6dff-9781-4b68-995d-03ed5d8eaf9f",
   "metadata": {},
   "outputs": [],
   "source": [
    "# Template\n",
    "def string_reverse(s):\n",
    "    return"
   ]
  },
  {
   "cell_type": "markdown",
   "id": "5febb4a7-04d6-4a2c-823e-f66c656c59f8",
   "metadata": {},
   "source": [
    "### Q4 Answer"
   ]
  },
  {
   "cell_type": "code",
   "execution_count": 194,
   "id": "6c9d6b94-e37a-43b7-9a2a-4e22d5d431aa",
   "metadata": {},
   "outputs": [],
   "source": [
    "# Task 1\n",
    "\n",
    "def string_reverse(s):\n",
    "    if isinstance(s, str):\n",
    "        return s[::-1]\n",
    "    else:\n",
    "        return \"Input must be a string\""
   ]
  },
  {
   "cell_type": "code",
   "execution_count": 97,
   "id": "09b4aba4-4432-47d0-ae63-a98a491df2a8",
   "metadata": {},
   "outputs": [
    {
     "name": "stdout",
     "output_type": "stream",
     "text": [
      "dlroW olleH\n",
      "nohtyP\n"
     ]
    }
   ],
   "source": [
    "# Task 2\n",
    "\n",
    "result_1 = string_reverse(\"Hello World\")\n",
    "print(result_1)  # Expected output: \"dlroW olleH\"\n",
    "\n",
    "result_2 = string_reverse(\"Python\")\n",
    "print(result_2)  # Expected output: \"nohtyP\""
   ]
  },
  {
   "cell_type": "code",
   "execution_count": 202,
   "id": "a01c17bd-a361-4b45-af11-3cad596561fd",
   "metadata": {},
   "outputs": [
    {
     "name": "stdout",
     "output_type": "stream",
     "text": [
      "Input must be a string\n"
     ]
    }
   ],
   "source": [
    "# Add-on test\n",
    "\n",
    "test = string_reverse(1)\n",
    "print(test)  "
   ]
  },
  {
   "cell_type": "markdown",
   "id": "25a3f33d-6663-416f-ac7f-3e23d1e0cb37",
   "metadata": {},
   "source": [
    "### Q5 Question"
   ]
  },
  {
   "cell_type": "markdown",
   "id": "5bfec66e-9677-439e-8ee1-304925a590b2",
   "metadata": {},
   "source": [
    "Task 1\n",
    "- Create a function to check if the number (num) is divisible by another number (divisor).\n",
    "- Both num and divisor must be numeric.\n",
    "- Return True if num is divisible by divisor, False otherwise.\n",
    "\n",
    "Task 2\n",
    "- Invoke the function \"check_divisibility\" using the following scenarios:\n",
    "    - 10, 2\n",
    "    - 7, 3"
   ]
  },
  {
   "cell_type": "code",
   "execution_count": 113,
   "id": "4f157594-547c-4c4d-881a-f390bdaca692",
   "metadata": {},
   "outputs": [],
   "source": [
    "# Template\n",
    "def check_divisibility(num, divisor):\n",
    "    return"
   ]
  },
  {
   "cell_type": "markdown",
   "id": "319dec05-84a2-4ee7-b274-36c4d7c03e96",
   "metadata": {},
   "source": [
    "### Q5 Answer"
   ]
  },
  {
   "cell_type": "code",
   "execution_count": 188,
   "id": "4cc121ab-4310-4300-8c1c-84d81cac0eb2",
   "metadata": {},
   "outputs": [],
   "source": [
    "# Task 1\n",
    "\n",
    "def check_divisibility(num, divisor):\n",
    "    if isinstance(num, (int, float)) and isinstance(divisor, (int, float)):\n",
    "        return num % divisor == 0\n",
    "    else:\n",
    "        print(\"Both num and divisor must be numeric.\")\n",
    "        return False"
   ]
  },
  {
   "cell_type": "code",
   "execution_count": 190,
   "id": "06eee372-09b7-4609-bb16-7864b1368e32",
   "metadata": {},
   "outputs": [
    {
     "name": "stdout",
     "output_type": "stream",
     "text": [
      "True\n",
      "False\n"
     ]
    }
   ],
   "source": [
    "# Task 2\n",
    "\n",
    "result_1 = check_divisibility(10, 2)\n",
    "print(result_1)  # Expected output: True\n",
    "\n",
    "result_2 = check_divisibility(7, 3)\n",
    "print(result_2)  # Expected output: False"
   ]
  },
  {
   "cell_type": "code",
   "execution_count": 200,
   "id": "78813dd6-a8ea-45a7-8ad1-23725b68ba9f",
   "metadata": {},
   "outputs": [
    {
     "name": "stdout",
     "output_type": "stream",
     "text": [
      "Both num and divisor must be numeric.\n",
      "False\n"
     ]
    }
   ],
   "source": [
    "# Add-on test\n",
    "\n",
    "test = check_divisibility('a', 3)\n",
    "print(test) "
   ]
  },
  {
   "cell_type": "markdown",
   "id": "218e55e4-040d-41f7-b20c-eb7d2dfca602",
   "metadata": {},
   "source": [
    "### Q6 Question"
   ]
  },
  {
   "cell_type": "markdown",
   "id": "553b7548-81de-4ba6-b490-26267989c295",
   "metadata": {},
   "source": [
    "Task 1\n",
    "- Create a function that finds the first negative number in a list (lst).\n",
    "- Return the first negative number if found, otherwise return \"No negatives\".\n",
    "- Use a while loop to implement this.\n",
    "\n",
    "Task 2\n",
    "- Invoke the function \"find_first_negative\" using the following scenario:\n",
    "    - [3, 5, -1, 7, -2, 8]\n",
    "    - [2, 10, 7, 0]"
   ]
  },
  {
   "cell_type": "code",
   "execution_count": 119,
   "id": "b75d0810-a19d-440f-a581-c544efefe720",
   "metadata": {},
   "outputs": [],
   "source": [
    "#Template\n",
    "def find_first_negative(lst):\n",
    "    return"
   ]
  },
  {
   "cell_type": "markdown",
   "id": "6a0e55c3-c71d-429a-8319-7d2e5eff51f5",
   "metadata": {},
   "source": [
    "### Q6 Answer"
   ]
  },
  {
   "cell_type": "code",
   "execution_count": 151,
   "id": "d8c7b1bd-d68b-4f1b-b922-4b6b86553b67",
   "metadata": {},
   "outputs": [],
   "source": [
    "# Task 1\n",
    "\n",
    "def find_first_negative(lst):\n",
    "    \n",
    "    index = 0\n",
    "    while index < len(lst):\n",
    "        if lst[index] < 0:\n",
    "            return lst[index]\n",
    "        index += 1\n",
    "    return \"No negatives\""
   ]
  },
  {
   "cell_type": "code",
   "execution_count": 123,
   "id": "7b607590-d61c-4834-a87e-f1c5973d1c9b",
   "metadata": {},
   "outputs": [
    {
     "name": "stdout",
     "output_type": "stream",
     "text": [
      "-1\n",
      "No negatives\n"
     ]
    }
   ],
   "source": [
    "# Task 2\n",
    "\n",
    "result_1 = find_first_negative([3, 5, -1, 7, -2, 8])\n",
    "print(result_1) # Expected output: -1\n",
    "\n",
    "result_2 = find_first_negative([2, 10, 7, 0])\n",
    "print(result_2) # Expected output: No negatives"
   ]
  },
  {
   "cell_type": "markdown",
   "id": "1132ceae-032b-4f47-a0ab-062e0453f9ad",
   "metadata": {},
   "source": [
    "### Q7 Question"
   ]
  },
  {
   "cell_type": "markdown",
   "id": "858c558b-1fd5-4408-95ef-c3f2dca80601",
   "metadata": {},
   "source": [
    "Task 1\n",
    "- Define a class named Car with attributes: make, model, year\n",
    "- Initialize these attributes in the __init__ method\n",
    "- Add a method named describe_car() that prints information about the car as \"Year Make Model\"\n",
    "\n",
    "Task 2\n",
    "- Create an instance of the Car class with the following attributes and call describe_car method:\n",
    "    - Make: Toyota, Model: Corolla, Year: 2020"
   ]
  },
  {
   "cell_type": "code",
   "execution_count": 149,
   "id": "4a4da3b7-8d7b-4d64-89ec-ec4ce6fa01e7",
   "metadata": {},
   "outputs": [],
   "source": [
    "# Template\n",
    "class Car:\n",
    "    \n",
    "    def describe_car(self):\n",
    "        print(\"\")"
   ]
  },
  {
   "cell_type": "markdown",
   "id": "d78dff2a-69be-4bed-bce1-199d3c95d9ae",
   "metadata": {},
   "source": [
    "### Q7 Answer"
   ]
  },
  {
   "cell_type": "code",
   "execution_count": 129,
   "id": "cfd012eb-3166-4274-85b5-37eae89835e2",
   "metadata": {},
   "outputs": [],
   "source": [
    "# Task 1\n",
    "\n",
    "class Car:\n",
    " \n",
    "    def __init__(self, make, model, year):\n",
    "        # Initialize the attributes\n",
    "        self.make = make\n",
    "        self.model = model\n",
    "        self.year = year\n",
    "\n",
    "    def describe_car(self):\n",
    "        # Prints information about the car as \"Year Make Model\"\n",
    "        print(f\"{self.year} {self.make} {self.model}\")"
   ]
  },
  {
   "cell_type": "code",
   "execution_count": 135,
   "id": "9e8b87b1-0505-46f3-99d7-5e7e06695e35",
   "metadata": {},
   "outputs": [
    {
     "name": "stdout",
     "output_type": "stream",
     "text": [
      "2020 Toyota Corolla\n"
     ]
    }
   ],
   "source": [
    "# Task 2\n",
    "\n",
    "my_car = Car(\"Toyota\", \"Corolla\", 2020)  # Creating an instance of the Car class \n",
    "my_car.describe_car()                    # Calling describe_car method\n",
    "\n",
    "# Expected output: 2020 Toyota Corolla"
   ]
  },
  {
   "cell_type": "code",
   "execution_count": null,
   "id": "33003bf3-a397-4a4e-94e2-4705768588b3",
   "metadata": {},
   "outputs": [],
   "source": []
  }
 ],
 "metadata": {
  "kernelspec": {
   "display_name": "Python 3 (ipykernel)",
   "language": "python",
   "name": "python3"
  },
  "language_info": {
   "codemirror_mode": {
    "name": "ipython",
    "version": 3
   },
   "file_extension": ".py",
   "mimetype": "text/x-python",
   "name": "python",
   "nbconvert_exporter": "python",
   "pygments_lexer": "ipython3",
   "version": "3.12.7"
  }
 },
 "nbformat": 4,
 "nbformat_minor": 5
}
